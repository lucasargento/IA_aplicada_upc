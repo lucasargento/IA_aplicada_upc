{
  "cells": [
    {
      "cell_type": "markdown",
      "id": "59091fb5",
      "metadata": {
        "id": "59091fb5"
      },
      "source": [
        "# Data preparation with Iris dataset"
      ]
    },
    {
      "cell_type": "code",
      "execution_count": null,
      "id": "3aa6fc98",
      "metadata": {
        "id": "3aa6fc98"
      },
      "outputs": [],
      "source": [
        "from google.colab import drive\n",
        "import pandas as pd\n",
        "from sklearn.preprocessing import StandardScaler\n",
        "from sklearn.model_selection import train_test_split"
      ]
    },
    {
      "cell_type": "code",
      "source": [
        "drive.mount('/content/drive')"
      ],
      "metadata": {
        "colab": {
          "base_uri": "https://localhost:8080/"
        },
        "id": "wwiq8QeUqz0q",
        "outputId": "21aa89ab-6ae6-497a-a50a-274b1c386245"
      },
      "id": "wwiq8QeUqz0q",
      "execution_count": null,
      "outputs": [
        {
          "output_type": "stream",
          "name": "stdout",
          "text": [
            "Mounted at /content/drive\n"
          ]
        }
      ]
    },
    {
      "cell_type": "code",
      "execution_count": null,
      "id": "cc6176e3",
      "metadata": {
        "id": "cc6176e3"
      },
      "outputs": [],
      "source": [
        "df_iris = pd.read_csv('/content/drive/My Drive/IAAE/data/iris.data.txt')"
      ]
    },
    {
      "cell_type": "markdown",
      "source": [
        "We extract from the data the X matrix with the predictive variables and the y vector for the class labels."
      ],
      "metadata": {
        "id": "B7U3VKtorbod"
      },
      "id": "B7U3VKtorbod"
    },
    {
      "cell_type": "code",
      "execution_count": null,
      "id": "0e681d77",
      "metadata": {
        "id": "0e681d77"
      },
      "outputs": [],
      "source": [
        "X = df_iris.drop('class',axis=1)"
      ]
    },
    {
      "cell_type": "code",
      "execution_count": null,
      "id": "9bbe7ab6",
      "metadata": {
        "id": "9bbe7ab6"
      },
      "outputs": [],
      "source": [
        "y = df_iris['class']"
      ]
    },
    {
      "cell_type": "markdown",
      "id": "2867344d",
      "metadata": {
        "id": "2867344d"
      },
      "source": [
        "### Training and testing sets"
      ]
    },
    {
      "cell_type": "markdown",
      "id": "43aa6c54",
      "metadata": {
        "id": "43aa6c54"
      },
      "source": [
        "Separate the data randomly into the training and test sets (70%-30%). \n",
        "\n",
        "Fixing a value for `random_state` guarantees that each execution returns the same sets. This is important if we want to compare different parameters or algorithms.\n",
        "\n",
        "With the `stratify` parameter we indicate which is the class column so the frequency of the labels is similar in the training and testing sets."
      ]
    },
    {
      "cell_type": "code",
      "execution_count": null,
      "id": "db11dc3c",
      "metadata": {
        "id": "db11dc3c"
      },
      "outputs": [],
      "source": [
        "X_train,X_test,y_train,y_test = train_test_split(X,y,test_size=0.3,random_state=15,stratify=y)"
      ]
    },
    {
      "cell_type": "code",
      "execution_count": null,
      "id": "2fbc2aa5",
      "metadata": {
        "colab": {
          "base_uri": "https://localhost:8080/"
        },
        "id": "2fbc2aa5",
        "outputId": "18e0adba-216c-44f8-c759-c950d9c9ba64"
      },
      "outputs": [
        {
          "output_type": "execute_result",
          "data": {
            "text/plain": [
              "(105, 4)"
            ]
          },
          "metadata": {},
          "execution_count": 7
        }
      ],
      "source": [
        "X_train.shape"
      ]
    },
    {
      "cell_type": "code",
      "execution_count": null,
      "id": "ad879da9",
      "metadata": {
        "colab": {
          "base_uri": "https://localhost:8080/"
        },
        "id": "ad879da9",
        "outputId": "0ce90155-5901-4b0b-d239-cd4dd4e7d0b2"
      },
      "outputs": [
        {
          "output_type": "execute_result",
          "data": {
            "text/plain": [
              "(45, 4)"
            ]
          },
          "metadata": {},
          "execution_count": 8
        }
      ],
      "source": [
        "X_test.shape"
      ]
    },
    {
      "cell_type": "code",
      "source": [
        "y_test.value_counts()"
      ],
      "metadata": {
        "colab": {
          "base_uri": "https://localhost:8080/"
        },
        "id": "uVUEy_LQmcK6",
        "outputId": "9e2b6cc4-320c-44db-ea68-2c65045a9f66"
      },
      "id": "uVUEy_LQmcK6",
      "execution_count": null,
      "outputs": [
        {
          "output_type": "execute_result",
          "data": {
            "text/plain": [
              "Iris-setosa        15\n",
              "Iris-versicolor    15\n",
              "Iris-virginica     15\n",
              "Name: class, dtype: int64"
            ]
          },
          "metadata": {},
          "execution_count": 9
        }
      ]
    },
    {
      "cell_type": "markdown",
      "id": "d95b4cac",
      "metadata": {
        "id": "d95b4cac"
      },
      "source": [
        "### Scaling"
      ]
    },
    {
      "cell_type": "markdown",
      "id": "aad5ae9e",
      "metadata": {
        "id": "aad5ae9e"
      },
      "source": [
        "Some algorithms require scaled data. In this example we use the standard scaler so that each feature has zero mean and unit variance."
      ]
    },
    {
      "cell_type": "markdown",
      "id": "9d6e4e64",
      "metadata": {
        "id": "9d6e4e64"
      },
      "source": [
        "Define an instance of the class of the scaler."
      ]
    },
    {
      "cell_type": "code",
      "execution_count": null,
      "id": "d5d12bd0",
      "metadata": {
        "id": "d5d12bd0"
      },
      "outputs": [],
      "source": [
        "std_scaler = StandardScaler()"
      ]
    },
    {
      "cell_type": "markdown",
      "id": "90fe5bd7",
      "metadata": {
        "id": "90fe5bd7"
      },
      "source": [
        "Fit the scaler, i.e., make the necessary calculations to transform any given data."
      ]
    },
    {
      "cell_type": "code",
      "execution_count": null,
      "id": "e0e4c37e",
      "metadata": {
        "colab": {
          "base_uri": "https://localhost:8080/"
        },
        "id": "e0e4c37e",
        "outputId": "60e97de7-39c8-411a-9e13-455c80b1b547"
      },
      "outputs": [
        {
          "output_type": "execute_result",
          "data": {
            "text/plain": [
              "StandardScaler()"
            ]
          },
          "metadata": {},
          "execution_count": 11
        }
      ],
      "source": [
        "std_scaler.fit(X_train)"
      ]
    },
    {
      "cell_type": "markdown",
      "id": "eee15c05",
      "metadata": {
        "id": "eee15c05"
      },
      "source": [
        "Apply the scaler to the training data, i.e., effectively transform the data."
      ]
    },
    {
      "cell_type": "code",
      "execution_count": null,
      "id": "776c05d6",
      "metadata": {
        "id": "776c05d6"
      },
      "outputs": [],
      "source": [
        "X_train_arr = std_scaler.transform(X_train)"
      ]
    },
    {
      "cell_type": "markdown",
      "id": "f2b92628",
      "metadata": {
        "id": "f2b92628"
      },
      "source": [
        "The result is an numpy array, we will convert the result to a dataframe."
      ]
    },
    {
      "cell_type": "code",
      "execution_count": null,
      "id": "f2057920",
      "metadata": {
        "id": "f2057920"
      },
      "outputs": [],
      "source": [
        "X_train_sc = pd.DataFrame(X_train_arr,columns=X_train.columns,index=X_train.index)"
      ]
    },
    {
      "cell_type": "code",
      "execution_count": null,
      "id": "178948c5",
      "metadata": {
        "colab": {
          "base_uri": "https://localhost:8080/",
          "height": 424
        },
        "id": "178948c5",
        "outputId": "c841e79c-76ae-48c1-b605-a7163d31e643"
      },
      "outputs": [
        {
          "output_type": "execute_result",
          "data": {
            "text/plain": [
              "     sepal-length  sepal-width  petal-length  petal-width\n",
              "47      -1.437366     0.285360     -1.330143    -1.329340\n",
              "124      0.924327     0.523160      1.064432     1.139965\n",
              "101     -0.087827    -0.903640      0.730306     0.880038\n",
              "13      -1.774751    -0.190240     -1.497206    -1.459304\n",
              "58       0.811866    -0.428040      0.451867     0.100258\n",
              "..            ...          ...           ...          ...\n",
              "48      -0.650135     1.474361     -1.274455    -1.329340\n",
              "70       0.024634     0.285360      0.563242     0.750075\n",
              "109      1.486635     1.236561      1.287183     1.659819\n",
              "42      -1.662290     0.285360     -1.385830    -1.329340\n",
              "118      2.048943    -1.141441      1.732686     1.399892\n",
              "\n",
              "[105 rows x 4 columns]"
            ],
            "text/html": [
              "\n",
              "  <div id=\"df-cf4d85b4-d284-4c4f-a660-a70f088514e2\">\n",
              "    <div class=\"colab-df-container\">\n",
              "      <div>\n",
              "<style scoped>\n",
              "    .dataframe tbody tr th:only-of-type {\n",
              "        vertical-align: middle;\n",
              "    }\n",
              "\n",
              "    .dataframe tbody tr th {\n",
              "        vertical-align: top;\n",
              "    }\n",
              "\n",
              "    .dataframe thead th {\n",
              "        text-align: right;\n",
              "    }\n",
              "</style>\n",
              "<table border=\"1\" class=\"dataframe\">\n",
              "  <thead>\n",
              "    <tr style=\"text-align: right;\">\n",
              "      <th></th>\n",
              "      <th>sepal-length</th>\n",
              "      <th>sepal-width</th>\n",
              "      <th>petal-length</th>\n",
              "      <th>petal-width</th>\n",
              "    </tr>\n",
              "  </thead>\n",
              "  <tbody>\n",
              "    <tr>\n",
              "      <th>47</th>\n",
              "      <td>-1.437366</td>\n",
              "      <td>0.285360</td>\n",
              "      <td>-1.330143</td>\n",
              "      <td>-1.329340</td>\n",
              "    </tr>\n",
              "    <tr>\n",
              "      <th>124</th>\n",
              "      <td>0.924327</td>\n",
              "      <td>0.523160</td>\n",
              "      <td>1.064432</td>\n",
              "      <td>1.139965</td>\n",
              "    </tr>\n",
              "    <tr>\n",
              "      <th>101</th>\n",
              "      <td>-0.087827</td>\n",
              "      <td>-0.903640</td>\n",
              "      <td>0.730306</td>\n",
              "      <td>0.880038</td>\n",
              "    </tr>\n",
              "    <tr>\n",
              "      <th>13</th>\n",
              "      <td>-1.774751</td>\n",
              "      <td>-0.190240</td>\n",
              "      <td>-1.497206</td>\n",
              "      <td>-1.459304</td>\n",
              "    </tr>\n",
              "    <tr>\n",
              "      <th>58</th>\n",
              "      <td>0.811866</td>\n",
              "      <td>-0.428040</td>\n",
              "      <td>0.451867</td>\n",
              "      <td>0.100258</td>\n",
              "    </tr>\n",
              "    <tr>\n",
              "      <th>...</th>\n",
              "      <td>...</td>\n",
              "      <td>...</td>\n",
              "      <td>...</td>\n",
              "      <td>...</td>\n",
              "    </tr>\n",
              "    <tr>\n",
              "      <th>48</th>\n",
              "      <td>-0.650135</td>\n",
              "      <td>1.474361</td>\n",
              "      <td>-1.274455</td>\n",
              "      <td>-1.329340</td>\n",
              "    </tr>\n",
              "    <tr>\n",
              "      <th>70</th>\n",
              "      <td>0.024634</td>\n",
              "      <td>0.285360</td>\n",
              "      <td>0.563242</td>\n",
              "      <td>0.750075</td>\n",
              "    </tr>\n",
              "    <tr>\n",
              "      <th>109</th>\n",
              "      <td>1.486635</td>\n",
              "      <td>1.236561</td>\n",
              "      <td>1.287183</td>\n",
              "      <td>1.659819</td>\n",
              "    </tr>\n",
              "    <tr>\n",
              "      <th>42</th>\n",
              "      <td>-1.662290</td>\n",
              "      <td>0.285360</td>\n",
              "      <td>-1.385830</td>\n",
              "      <td>-1.329340</td>\n",
              "    </tr>\n",
              "    <tr>\n",
              "      <th>118</th>\n",
              "      <td>2.048943</td>\n",
              "      <td>-1.141441</td>\n",
              "      <td>1.732686</td>\n",
              "      <td>1.399892</td>\n",
              "    </tr>\n",
              "  </tbody>\n",
              "</table>\n",
              "<p>105 rows × 4 columns</p>\n",
              "</div>\n",
              "      <button class=\"colab-df-convert\" onclick=\"convertToInteractive('df-cf4d85b4-d284-4c4f-a660-a70f088514e2')\"\n",
              "              title=\"Convert this dataframe to an interactive table.\"\n",
              "              style=\"display:none;\">\n",
              "        \n",
              "  <svg xmlns=\"http://www.w3.org/2000/svg\" height=\"24px\"viewBox=\"0 0 24 24\"\n",
              "       width=\"24px\">\n",
              "    <path d=\"M0 0h24v24H0V0z\" fill=\"none\"/>\n",
              "    <path d=\"M18.56 5.44l.94 2.06.94-2.06 2.06-.94-2.06-.94-.94-2.06-.94 2.06-2.06.94zm-11 1L8.5 8.5l.94-2.06 2.06-.94-2.06-.94L8.5 2.5l-.94 2.06-2.06.94zm10 10l.94 2.06.94-2.06 2.06-.94-2.06-.94-.94-2.06-.94 2.06-2.06.94z\"/><path d=\"M17.41 7.96l-1.37-1.37c-.4-.4-.92-.59-1.43-.59-.52 0-1.04.2-1.43.59L10.3 9.45l-7.72 7.72c-.78.78-.78 2.05 0 2.83L4 21.41c.39.39.9.59 1.41.59.51 0 1.02-.2 1.41-.59l7.78-7.78 2.81-2.81c.8-.78.8-2.07 0-2.86zM5.41 20L4 18.59l7.72-7.72 1.47 1.35L5.41 20z\"/>\n",
              "  </svg>\n",
              "      </button>\n",
              "      \n",
              "  <style>\n",
              "    .colab-df-container {\n",
              "      display:flex;\n",
              "      flex-wrap:wrap;\n",
              "      gap: 12px;\n",
              "    }\n",
              "\n",
              "    .colab-df-convert {\n",
              "      background-color: #E8F0FE;\n",
              "      border: none;\n",
              "      border-radius: 50%;\n",
              "      cursor: pointer;\n",
              "      display: none;\n",
              "      fill: #1967D2;\n",
              "      height: 32px;\n",
              "      padding: 0 0 0 0;\n",
              "      width: 32px;\n",
              "    }\n",
              "\n",
              "    .colab-df-convert:hover {\n",
              "      background-color: #E2EBFA;\n",
              "      box-shadow: 0px 1px 2px rgba(60, 64, 67, 0.3), 0px 1px 3px 1px rgba(60, 64, 67, 0.15);\n",
              "      fill: #174EA6;\n",
              "    }\n",
              "\n",
              "    [theme=dark] .colab-df-convert {\n",
              "      background-color: #3B4455;\n",
              "      fill: #D2E3FC;\n",
              "    }\n",
              "\n",
              "    [theme=dark] .colab-df-convert:hover {\n",
              "      background-color: #434B5C;\n",
              "      box-shadow: 0px 1px 3px 1px rgba(0, 0, 0, 0.15);\n",
              "      filter: drop-shadow(0px 1px 2px rgba(0, 0, 0, 0.3));\n",
              "      fill: #FFFFFF;\n",
              "    }\n",
              "  </style>\n",
              "\n",
              "      <script>\n",
              "        const buttonEl =\n",
              "          document.querySelector('#df-cf4d85b4-d284-4c4f-a660-a70f088514e2 button.colab-df-convert');\n",
              "        buttonEl.style.display =\n",
              "          google.colab.kernel.accessAllowed ? 'block' : 'none';\n",
              "\n",
              "        async function convertToInteractive(key) {\n",
              "          const element = document.querySelector('#df-cf4d85b4-d284-4c4f-a660-a70f088514e2');\n",
              "          const dataTable =\n",
              "            await google.colab.kernel.invokeFunction('convertToInteractive',\n",
              "                                                     [key], {});\n",
              "          if (!dataTable) return;\n",
              "\n",
              "          const docLinkHtml = 'Like what you see? Visit the ' +\n",
              "            '<a target=\"_blank\" href=https://colab.research.google.com/notebooks/data_table.ipynb>data table notebook</a>'\n",
              "            + ' to learn more about interactive tables.';\n",
              "          element.innerHTML = '';\n",
              "          dataTable['output_type'] = 'display_data';\n",
              "          await google.colab.output.renderOutput(dataTable, element);\n",
              "          const docLink = document.createElement('div');\n",
              "          docLink.innerHTML = docLinkHtml;\n",
              "          element.appendChild(docLink);\n",
              "        }\n",
              "      </script>\n",
              "    </div>\n",
              "  </div>\n",
              "  "
            ]
          },
          "metadata": {},
          "execution_count": 14
        }
      ],
      "source": [
        "X_train_sc"
      ]
    },
    {
      "cell_type": "markdown",
      "id": "fd490a88",
      "metadata": {
        "id": "fd490a88"
      },
      "source": [
        "Apply the scaler to the test data."
      ]
    },
    {
      "cell_type": "code",
      "source": [
        "X_train_sc.describe()"
      ],
      "metadata": {
        "id": "mX_nM1qFKprX",
        "colab": {
          "base_uri": "https://localhost:8080/",
          "height": 300
        },
        "outputId": "f6664445-803e-4056-da2d-7a7ec1d263f1"
      },
      "id": "mX_nM1qFKprX",
      "execution_count": null,
      "outputs": [
        {
          "output_type": "execute_result",
          "data": {
            "text/plain": [
              "       sepal-length   sepal-width  petal-length  petal-width\n",
              "count  1.050000e+02  1.050000e+02  1.050000e+02   105.000000\n",
              "mean  -6.978545e-16  8.479989e-16  1.564886e-16     0.000000\n",
              "std    1.004796e+00  1.004796e+00  1.004796e+00     1.004796\n",
              "min   -1.774751e+00 -2.568241e+00 -1.552894e+00    -1.459304\n",
              "25%   -8.750584e-01 -6.658404e-01 -1.218767e+00    -1.199377\n",
              "50%   -8.782716e-02 -1.902401e-01  3.404910e-01     0.230221\n",
              "75%    6.994041e-01  5.231603e-01  7.303056e-01     0.750075\n",
              "max    2.273867e+00  3.138962e+00  1.732686e+00     1.659819"
            ],
            "text/html": [
              "\n",
              "  <div id=\"df-ec7e4b38-c439-447e-bda3-0dcbfb8c65d9\">\n",
              "    <div class=\"colab-df-container\">\n",
              "      <div>\n",
              "<style scoped>\n",
              "    .dataframe tbody tr th:only-of-type {\n",
              "        vertical-align: middle;\n",
              "    }\n",
              "\n",
              "    .dataframe tbody tr th {\n",
              "        vertical-align: top;\n",
              "    }\n",
              "\n",
              "    .dataframe thead th {\n",
              "        text-align: right;\n",
              "    }\n",
              "</style>\n",
              "<table border=\"1\" class=\"dataframe\">\n",
              "  <thead>\n",
              "    <tr style=\"text-align: right;\">\n",
              "      <th></th>\n",
              "      <th>sepal-length</th>\n",
              "      <th>sepal-width</th>\n",
              "      <th>petal-length</th>\n",
              "      <th>petal-width</th>\n",
              "    </tr>\n",
              "  </thead>\n",
              "  <tbody>\n",
              "    <tr>\n",
              "      <th>count</th>\n",
              "      <td>1.050000e+02</td>\n",
              "      <td>1.050000e+02</td>\n",
              "      <td>1.050000e+02</td>\n",
              "      <td>105.000000</td>\n",
              "    </tr>\n",
              "    <tr>\n",
              "      <th>mean</th>\n",
              "      <td>-6.978545e-16</td>\n",
              "      <td>8.479989e-16</td>\n",
              "      <td>1.564886e-16</td>\n",
              "      <td>0.000000</td>\n",
              "    </tr>\n",
              "    <tr>\n",
              "      <th>std</th>\n",
              "      <td>1.004796e+00</td>\n",
              "      <td>1.004796e+00</td>\n",
              "      <td>1.004796e+00</td>\n",
              "      <td>1.004796</td>\n",
              "    </tr>\n",
              "    <tr>\n",
              "      <th>min</th>\n",
              "      <td>-1.774751e+00</td>\n",
              "      <td>-2.568241e+00</td>\n",
              "      <td>-1.552894e+00</td>\n",
              "      <td>-1.459304</td>\n",
              "    </tr>\n",
              "    <tr>\n",
              "      <th>25%</th>\n",
              "      <td>-8.750584e-01</td>\n",
              "      <td>-6.658404e-01</td>\n",
              "      <td>-1.218767e+00</td>\n",
              "      <td>-1.199377</td>\n",
              "    </tr>\n",
              "    <tr>\n",
              "      <th>50%</th>\n",
              "      <td>-8.782716e-02</td>\n",
              "      <td>-1.902401e-01</td>\n",
              "      <td>3.404910e-01</td>\n",
              "      <td>0.230221</td>\n",
              "    </tr>\n",
              "    <tr>\n",
              "      <th>75%</th>\n",
              "      <td>6.994041e-01</td>\n",
              "      <td>5.231603e-01</td>\n",
              "      <td>7.303056e-01</td>\n",
              "      <td>0.750075</td>\n",
              "    </tr>\n",
              "    <tr>\n",
              "      <th>max</th>\n",
              "      <td>2.273867e+00</td>\n",
              "      <td>3.138962e+00</td>\n",
              "      <td>1.732686e+00</td>\n",
              "      <td>1.659819</td>\n",
              "    </tr>\n",
              "  </tbody>\n",
              "</table>\n",
              "</div>\n",
              "      <button class=\"colab-df-convert\" onclick=\"convertToInteractive('df-ec7e4b38-c439-447e-bda3-0dcbfb8c65d9')\"\n",
              "              title=\"Convert this dataframe to an interactive table.\"\n",
              "              style=\"display:none;\">\n",
              "        \n",
              "  <svg xmlns=\"http://www.w3.org/2000/svg\" height=\"24px\"viewBox=\"0 0 24 24\"\n",
              "       width=\"24px\">\n",
              "    <path d=\"M0 0h24v24H0V0z\" fill=\"none\"/>\n",
              "    <path d=\"M18.56 5.44l.94 2.06.94-2.06 2.06-.94-2.06-.94-.94-2.06-.94 2.06-2.06.94zm-11 1L8.5 8.5l.94-2.06 2.06-.94-2.06-.94L8.5 2.5l-.94 2.06-2.06.94zm10 10l.94 2.06.94-2.06 2.06-.94-2.06-.94-.94-2.06-.94 2.06-2.06.94z\"/><path d=\"M17.41 7.96l-1.37-1.37c-.4-.4-.92-.59-1.43-.59-.52 0-1.04.2-1.43.59L10.3 9.45l-7.72 7.72c-.78.78-.78 2.05 0 2.83L4 21.41c.39.39.9.59 1.41.59.51 0 1.02-.2 1.41-.59l7.78-7.78 2.81-2.81c.8-.78.8-2.07 0-2.86zM5.41 20L4 18.59l7.72-7.72 1.47 1.35L5.41 20z\"/>\n",
              "  </svg>\n",
              "      </button>\n",
              "      \n",
              "  <style>\n",
              "    .colab-df-container {\n",
              "      display:flex;\n",
              "      flex-wrap:wrap;\n",
              "      gap: 12px;\n",
              "    }\n",
              "\n",
              "    .colab-df-convert {\n",
              "      background-color: #E8F0FE;\n",
              "      border: none;\n",
              "      border-radius: 50%;\n",
              "      cursor: pointer;\n",
              "      display: none;\n",
              "      fill: #1967D2;\n",
              "      height: 32px;\n",
              "      padding: 0 0 0 0;\n",
              "      width: 32px;\n",
              "    }\n",
              "\n",
              "    .colab-df-convert:hover {\n",
              "      background-color: #E2EBFA;\n",
              "      box-shadow: 0px 1px 2px rgba(60, 64, 67, 0.3), 0px 1px 3px 1px rgba(60, 64, 67, 0.15);\n",
              "      fill: #174EA6;\n",
              "    }\n",
              "\n",
              "    [theme=dark] .colab-df-convert {\n",
              "      background-color: #3B4455;\n",
              "      fill: #D2E3FC;\n",
              "    }\n",
              "\n",
              "    [theme=dark] .colab-df-convert:hover {\n",
              "      background-color: #434B5C;\n",
              "      box-shadow: 0px 1px 3px 1px rgba(0, 0, 0, 0.15);\n",
              "      filter: drop-shadow(0px 1px 2px rgba(0, 0, 0, 0.3));\n",
              "      fill: #FFFFFF;\n",
              "    }\n",
              "  </style>\n",
              "\n",
              "      <script>\n",
              "        const buttonEl =\n",
              "          document.querySelector('#df-ec7e4b38-c439-447e-bda3-0dcbfb8c65d9 button.colab-df-convert');\n",
              "        buttonEl.style.display =\n",
              "          google.colab.kernel.accessAllowed ? 'block' : 'none';\n",
              "\n",
              "        async function convertToInteractive(key) {\n",
              "          const element = document.querySelector('#df-ec7e4b38-c439-447e-bda3-0dcbfb8c65d9');\n",
              "          const dataTable =\n",
              "            await google.colab.kernel.invokeFunction('convertToInteractive',\n",
              "                                                     [key], {});\n",
              "          if (!dataTable) return;\n",
              "\n",
              "          const docLinkHtml = 'Like what you see? Visit the ' +\n",
              "            '<a target=\"_blank\" href=https://colab.research.google.com/notebooks/data_table.ipynb>data table notebook</a>'\n",
              "            + ' to learn more about interactive tables.';\n",
              "          element.innerHTML = '';\n",
              "          dataTable['output_type'] = 'display_data';\n",
              "          await google.colab.output.renderOutput(dataTable, element);\n",
              "          const docLink = document.createElement('div');\n",
              "          docLink.innerHTML = docLinkHtml;\n",
              "          element.appendChild(docLink);\n",
              "        }\n",
              "      </script>\n",
              "    </div>\n",
              "  </div>\n",
              "  "
            ]
          },
          "metadata": {},
          "execution_count": 19
        }
      ]
    },
    {
      "cell_type": "code",
      "execution_count": null,
      "id": "247932ff",
      "metadata": {
        "id": "247932ff"
      },
      "outputs": [],
      "source": [
        "X_test_arr = std_scaler.transform(X_test)\n",
        "X_test_sc = pd.DataFrame(X_test_arr,columns=X_test.columns,index=X_test.index)"
      ]
    },
    {
      "cell_type": "markdown",
      "id": "df8d10a4",
      "metadata": {
        "id": "df8d10a4"
      },
      "source": [
        "Save all the data in pickle format."
      ]
    },
    {
      "cell_type": "code",
      "execution_count": null,
      "id": "92d73b58",
      "metadata": {
        "id": "92d73b58"
      },
      "outputs": [],
      "source": [
        "X_train_sc.to_pickle('/content/drive/My Drive/IAAE/data/iris_Xtrain_sc.pkl')\n",
        "y_train.to_pickle('/content/drive/My Drive/IAAE/data/iris_ytrain.pkl')\n",
        "X_test_sc.to_pickle('/content/drive/My Drive/IAAE/data/iris_Xtest_sc.pkl')\n",
        "y_test.to_pickle('/content/drive/My Drive/IAAE/data/iris_ytest.pkl')"
      ]
    },
    {
      "cell_type": "markdown",
      "source": [
        "We can also save the data in csv format. For example:\n",
        "\n",
        "`X_train_sc.to_csv('iris_Xtrain_sc.csv')`"
      ],
      "metadata": {
        "id": "8tQk1bqjljrZ"
      },
      "id": "8tQk1bqjljrZ"
    }
  ],
  "metadata": {
    "kernelspec": {
      "display_name": "Python 3 (ipykernel)",
      "language": "python",
      "name": "python3"
    },
    "language_info": {
      "codemirror_mode": {
        "name": "ipython",
        "version": 3
      },
      "file_extension": ".py",
      "mimetype": "text/x-python",
      "name": "python",
      "nbconvert_exporter": "python",
      "pygments_lexer": "ipython3",
      "version": "3.9.7"
    },
    "colab": {
      "provenance": []
    }
  },
  "nbformat": 4,
  "nbformat_minor": 5
}